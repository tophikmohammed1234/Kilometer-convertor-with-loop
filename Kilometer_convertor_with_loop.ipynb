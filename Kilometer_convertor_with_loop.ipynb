{
  "nbformat": 4,
  "nbformat_minor": 0,
  "metadata": {
    "colab": {
      "provenance": [],
      "authorship_tag": "ABX9TyPpPX9pbutW8Yelds62gnfl",
      "include_colab_link": true
    },
    "kernelspec": {
      "name": "python3",
      "display_name": "Python 3"
    },
    "language_info": {
      "name": "python"
    }
  },
  "cells": [
    {
      "cell_type": "markdown",
      "metadata": {
        "id": "view-in-github",
        "colab_type": "text"
      },
      "source": [
        "<a href=\"https://colab.research.google.com/github/tophikmohammed1234/Kilometer-convertor-with-loop/blob/main/Kilometer_convertor_with_loop.ipynb\" target=\"_parent\"><img src=\"https://colab.research.google.com/assets/colab-badge.svg\" alt=\"Open In Colab\"/></a>"
      ]
    },
    {
      "cell_type": "code",
      "execution_count": null,
      "metadata": {
        "id": "NS45EzVSvIkP"
      },
      "outputs": [],
      "source": [
        "# this Function convert killometer to mile\n",
        "def mile(num1):\n",
        "\treturn num1 * 0.62137119\n",
        "\n",
        "# this Function convert killometer to meter\n",
        "def meter(num1):\n",
        "\treturn num1 * 1000\n",
        "\n",
        "# this Function convert killometer to foot\n",
        "def foot(num1):\n",
        "\treturn num1 * 3280.8399\n",
        "\n",
        "# this Function convert killometer to inch\n",
        "def inch(num1):\n",
        "\treturn num1 * 39370.0787\n",
        "\n",
        "print(\"Please select the convertion operation(kilometer to ) -\\n\" \\\n",
        "\t\t\"1. mile\\n\" \\\n",
        "\t\t\"2. meter\\n\" \\\n",
        "\t\t\"3. foot\\n\" \\\n",
        "\t\t\"4. inch\\n\")\n",
        "\n",
        "cont = 1\n",
        "while(cont == 1):\n",
        "\t# Take input from the user\n",
        "\tselect = int(input(\"Select to which operations you want to convert from 1, 2, 3, 4 :\"))\n",
        "\n",
        "\tnumber_1 = int(input(\"Enter the number you want to convert: \"))\n",
        "\n",
        "\tif select == 1:\n",
        "\t\tprint(number_1, \"km\", \"*\", 0.62137119, \"=\" ,\n",
        "\t\t\t\t\t\tmile(number_1),\"mile\"),\n",
        "\n",
        "\telif select == 2:\n",
        "\t\tprint(number_1,\"km\", \"*\", 1000, \"=\",\n",
        "\t\t\t\t\t\tmeter(number_1),\"meter\")\n",
        "\telif select == 3:\n",
        "\t\tprint(number_1, \"km\", \"*\", 3280.8399, \"=\" ,\n",
        "\t\t\t\t\t\tfoot(number_1), \"foot\")\n",
        "\telif select == 4:\n",
        "\t\tprint(number_1,\"km\", \"*\", 39370.0787, \"=\" ,\n",
        "\t\t\t\t\tinch(number_1),\"inch\")\n",
        "\telse:\n",
        "\t\tprint(\"Invalid input entered\")\n",
        "\tcont= int(input(\"Do you want to continue? If yes press 1 if not press any key:-  \"))"
      ]
    }
  ]
}